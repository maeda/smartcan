{
 "cells": [
  {
   "cell_type": "markdown",
   "metadata": {},
   "source": [
    "## Training a simple model from scratch"
   ]
  },
  {
   "cell_type": "code",
   "execution_count": 1,
   "metadata": {},
   "outputs": [
    {
     "name": "stderr",
     "output_type": "stream",
     "text": [
      "Using TensorFlow backend.\n"
     ]
    }
   ],
   "source": [
    "from keras import layers,models,optimizers\n",
    "from keras.preprocessing.image import ImageDataGenerator"
   ]
  },
  {
   "cell_type": "markdown",
   "metadata": {},
   "source": [
    "Original images are 720x480 but training using original dimensions will take a long time. Let's start off using 320x213 images."
   ]
  },
  {
   "cell_type": "code",
   "execution_count": 2,
   "metadata": {},
   "outputs": [],
   "source": [
    "IMAGE_WIDTH = 320\n",
    "IMAGE_HEIGHT = 213"
   ]
  },
  {
   "cell_type": "markdown",
   "metadata": {},
   "source": [
    "Defining a function to return our simple 6-layer model."
   ]
  },
  {
   "cell_type": "code",
   "execution_count": 17,
   "metadata": {},
   "outputs": [],
   "source": [
    "def build_model(image_width=IMAGE_WIDTH, image_height=IMAGE_HEIGHT):\n",
    "    model = models.Sequential()\n",
    "    model.add(layers.Conv2D(32, (3, 3), activation='relu',\n",
    "                            input_shape=(image_width, image_height, 3)))\n",
    "    model.add(layers.MaxPooling2D((2, 2)))\n",
    "    model.add(layers.Conv2D(64, (3, 3), activation='relu'))\n",
    "    model.add(layers.MaxPooling2D((2, 2)))\n",
    "    model.add(layers.Conv2D(128, (3, 3), activation='relu'))\n",
    "    model.add(layers.MaxPooling2D((2, 2)))\n",
    "    model.add(layers.Conv2D(128, (3, 3), activation='relu'))\n",
    "    model.add(layers.MaxPooling2D((2, 2)))\n",
    "    model.add(layers.Flatten())\n",
    "    model.add(layers.Dropout(0.5))\n",
    "    model.add(layers.Dense(512, activation='relu'))\n",
    "    model.add(layers.Dense(1, activation='sigmoid'))\n",
    "\n",
    "    model.compile(loss='binary_crossentropy',\n",
    "                  optimizer=optimizers.RMSprop(lr=1e-4),\n",
    "                  metrics=['acc'])\n",
    "    \n",
    "    return model"
   ]
  },
  {
   "cell_type": "code",
   "execution_count": 3,
   "metadata": {},
   "outputs": [],
   "source": [
    "TRAIN_DIR = '../data/train'\n",
    "VALIDATION_DIR = '../data/test'"
   ]
  },
  {
   "cell_type": "code",
   "execution_count": 39,
   "metadata": {},
   "outputs": [
    {
     "name": "stdout",
     "output_type": "stream",
     "text": [
      "Found 94 images belonging to 2 classes.\n",
      "Found 25 images belonging to 2 classes.\n"
     ]
    }
   ],
   "source": [
    "train_datagen = ImageDataGenerator(rescale=1./255)\n",
    "test_datagen = ImageDataGenerator(rescale=1./255)\n",
    "\n",
    "train_generator = train_datagen.flow_from_directory(\n",
    "        TRAIN_DIR,\n",
    "        target_size=(IMAGE_WIDTH, IMAGE_HEIGHT),\n",
    "        batch_size=20,\n",
    "        class_mode='binary')\n",
    "\n",
    "validation_generator = test_datagen.flow_from_directory(\n",
    "        VALIDATION_DIR,\n",
    "        target_size=(IMAGE_WIDTH, IMAGE_HEIGHT),\n",
    "        batch_size=20,\n",
    "        class_mode='binary')"
   ]
  },
  {
   "cell_type": "code",
   "execution_count": 40,
   "metadata": {},
   "outputs": [
    {
     "name": "stdout",
     "output_type": "stream",
     "text": [
      "Epoch 1/30\n",
      "4/4 [==============================] - 10s 2s/step - loss: 0.6751 - acc: 0.5764 - val_loss: 0.6749 - val_acc: 0.6000\n",
      "Epoch 2/30\n",
      "4/4 [==============================] - 9s 2s/step - loss: 0.6575 - acc: 0.6950 - val_loss: 0.6594 - val_acc: 0.6000\n",
      "Epoch 3/30\n",
      "4/4 [==============================] - 9s 2s/step - loss: 0.6015 - acc: 0.6993 - val_loss: 0.6493 - val_acc: 0.6000\n",
      "Epoch 4/30\n",
      "4/4 [==============================] - 9s 2s/step - loss: 0.6122 - acc: 0.6500 - val_loss: 0.7266 - val_acc: 0.6000\n",
      "Epoch 5/30\n",
      "4/4 [==============================] - 9s 2s/step - loss: 0.6284 - acc: 0.6186 - val_loss: 0.6243 - val_acc: 0.6000\n",
      "Epoch 6/30\n",
      "4/4 [==============================] - 9s 2s/step - loss: 0.5384 - acc: 0.7118 - val_loss: 0.9319 - val_acc: 0.6000\n",
      "Epoch 7/30\n",
      "4/4 [==============================] - 9s 2s/step - loss: 0.6835 - acc: 0.6125 - val_loss: 0.6131 - val_acc: 0.7200\n",
      "Epoch 8/30\n",
      "4/4 [==============================] - 9s 2s/step - loss: 0.5305 - acc: 0.7417 - val_loss: 0.5988 - val_acc: 0.7200\n",
      "Epoch 9/30\n",
      "4/4 [==============================] - 8s 2s/step - loss: 0.5192 - acc: 0.7198 - val_loss: 0.5884 - val_acc: 0.6400\n",
      "Epoch 10/30\n",
      "4/4 [==============================] - 9s 2s/step - loss: 0.4634 - acc: 0.8125 - val_loss: 0.5866 - val_acc: 0.7200\n",
      "Epoch 11/30\n",
      "4/4 [==============================] - 9s 2s/step - loss: 0.4892 - acc: 0.7585 - val_loss: 0.5798 - val_acc: 0.7600\n",
      "Epoch 12/30\n",
      "4/4 [==============================] - 9s 2s/step - loss: 0.4437 - acc: 0.8474 - val_loss: 0.6430 - val_acc: 0.6000\n",
      "Epoch 13/30\n",
      "4/4 [==============================] - 9s 2s/step - loss: 0.4858 - acc: 0.7161 - val_loss: 0.5655 - val_acc: 0.7200\n",
      "Epoch 14/30\n",
      "4/4 [==============================] - 9s 2s/step - loss: 0.3513 - acc: 0.8875 - val_loss: 0.6416 - val_acc: 0.6400\n",
      "Epoch 15/30\n",
      "4/4 [==============================] - 9s 2s/step - loss: 0.4161 - acc: 0.8134 - val_loss: 0.5730 - val_acc: 0.7200\n",
      "Epoch 16/30\n",
      "4/4 [==============================] - 9s 2s/step - loss: 0.3541 - acc: 0.8009 - val_loss: 0.7375 - val_acc: 0.5200\n",
      "Epoch 17/30\n",
      "4/4 [==============================] - 9s 2s/step - loss: 0.4028 - acc: 0.8625 - val_loss: 0.5485 - val_acc: 0.7600\n",
      "Epoch 18/30\n",
      "4/4 [==============================] - 9s 2s/step - loss: 0.2656 - acc: 0.9152 - val_loss: 0.5915 - val_acc: 0.7200\n",
      "Epoch 19/30\n",
      "4/4 [==============================] - 8s 2s/step - loss: 0.3232 - acc: 0.8577 - val_loss: 0.5521 - val_acc: 0.7600\n",
      "Epoch 20/30\n",
      "4/4 [==============================] - 9s 2s/step - loss: 0.2715 - acc: 0.8875 - val_loss: 0.8184 - val_acc: 0.5200\n",
      "Epoch 21/30\n",
      "4/4 [==============================] - 9s 2s/step - loss: 0.3330 - acc: 0.8644 - val_loss: 0.5604 - val_acc: 0.7200\n",
      "Epoch 22/30\n",
      "4/4 [==============================] - 9s 2s/step - loss: 0.3138 - acc: 0.8560 - val_loss: 0.5771 - val_acc: 0.7600\n",
      "Epoch 23/30\n",
      "4/4 [==============================] - 9s 2s/step - loss: 0.2010 - acc: 0.9625 - val_loss: 0.6002 - val_acc: 0.6800\n",
      "Epoch 24/30\n",
      "4/4 [==============================] - 9s 2s/step - loss: 0.2050 - acc: 0.9449 - val_loss: 0.5844 - val_acc: 0.7600\n",
      "Epoch 25/30\n",
      "4/4 [==============================] - 9s 2s/step - loss: 0.2109 - acc: 0.9449 - val_loss: 0.6550 - val_acc: 0.6800\n",
      "Epoch 26/30\n",
      "4/4 [==============================] - 9s 2s/step - loss: 0.3020 - acc: 0.8730 - val_loss: 0.6944 - val_acc: 0.6800\n",
      "Epoch 27/30\n",
      "4/4 [==============================] - 9s 2s/step - loss: 0.1782 - acc: 0.9746 - val_loss: 0.6192 - val_acc: 0.7600\n",
      "Epoch 28/30\n",
      "4/4 [==============================] - 9s 2s/step - loss: 0.1483 - acc: 0.9875 - val_loss: 0.6643 - val_acc: 0.8000\n",
      "Epoch 29/30\n",
      "4/4 [==============================] - 9s 2s/step - loss: 0.1423 - acc: 0.9746 - val_loss: 0.6601 - val_acc: 0.7200\n",
      "Epoch 30/30\n",
      "4/4 [==============================] - 9s 2s/step - loss: 0.1938 - acc: 0.9279 - val_loss: 0.7783 - val_acc: 0.6800\n"
     ]
    }
   ],
   "source": [
    "model = build_model()\n",
    "history = model.fit_generator(\n",
    "      train_generator,\n",
    "      steps_per_epoch=4,\n",
    "      epochs=30,\n",
    "      validation_data=validation_generator,\n",
    "      validation_steps=4)\n",
    "model.save('model_no_aug.h5')"
   ]
  },
  {
   "cell_type": "markdown",
   "metadata": {},
   "source": [
    "Graphing the result"
   ]
  },
  {
   "cell_type": "code",
   "execution_count": 14,
   "metadata": {},
   "outputs": [],
   "source": [
    "import matplotlib.pyplot as plt\n",
    "\n",
    "def plot_history(history):\n",
    "    acc = history.history['acc']\n",
    "    val_acc = history.history['val_acc']\n",
    "    loss = history.history['loss']\n",
    "    val_loss = history.history['val_loss']\n",
    "\n",
    "    epochs = range(len(acc))\n",
    "\n",
    "    plt.plot(epochs, acc, 'bo', label='Training acc')\n",
    "    plt.plot(epochs, val_acc, 'b', label='Validation acc')\n",
    "    plt.title('Training and validation accuracy')\n",
    "    plt.legend()\n",
    "\n",
    "    plt.figure()\n",
    "\n",
    "    plt.plot(epochs, loss, 'bo', label='Training loss')\n",
    "    plt.plot(epochs, val_loss, 'b', label='Validation loss')\n",
    "    plt.title('Training and validation loss')\n",
    "    plt.legend()\n",
    "\n",
    "    plt.show()"
   ]
  },
  {
   "cell_type": "code",
   "execution_count": 46,
   "metadata": {},
   "outputs": [
    {
     "data": {
      "image/png": "[encoded data removed]",
      "text/plain": [
       "<matplotlib.figure.Figure at 0x7f42dc9158d0>"
      ]
     },
     "metadata": {},
     "output_type": "display_data"
    },
    {
     "data": {
      "image/png": "[encoded data removed]",
      "text/plain": [
       "<matplotlib.figure.Figure at 0x7f42dc845438>"
      ]
     },
     "metadata": {},
     "output_type": "display_data"
    }
   ],
   "source": [
    "plot_history(history)"
   ]
  },
  {
   "cell_type": "markdown",
   "metadata": {},
   "source": [
    "We see that validation loss is all over the place, and there's a considerable gap between it and training loss. This happens because our dataset is very small. Let's try augmenting it by randomly applying transformations to training data and increasing our batch size."
   ]
  },
  {
   "cell_type": "code",
   "execution_count": 6,
   "metadata": {},
   "outputs": [
    {
     "name": "stdout",
     "output_type": "stream",
     "text": [
      "Found 94 images belonging to 2 classes.\n",
      "Found 25 images belonging to 2 classes.\n"
     ]
    }
   ],
   "source": [
    "train_datagen = ImageDataGenerator(\n",
    "      rescale=1./255,\n",
    "      rotation_range=40,\n",
    "      width_shift_range=0.2,\n",
    "      height_shift_range=0.2,\n",
    "      shear_range=0.2,\n",
    "      zoom_range=0.2,\n",
    "      horizontal_flip=True,\n",
    "      fill_mode='nearest')\n",
    "test_datagen = ImageDataGenerator(rescale=1./255)\n",
    "\n",
    "train_generator = train_datagen.flow_from_directory(\n",
    "        TRAIN_DIR,\n",
    "        target_size=(IMAGE_WIDTH, IMAGE_HEIGHT),\n",
    "        batch_size=20,\n",
    "        class_mode='binary')\n",
    "\n",
    "validation_generator = test_datagen.flow_from_directory(\n",
    "        VALIDATION_DIR,\n",
    "        target_size=(IMAGE_WIDTH, IMAGE_HEIGHT),\n",
    "        batch_size=20,\n",
    "        class_mode='binary')"
   ]
  },
  {
   "cell_type": "code",
   "execution_count": 5,
   "metadata": {},
   "outputs": [
    {
     "ename": "NameError",
     "evalue": "name 'model' is not defined",
     "traceback": [
      "\u001b[0;31m---------------------------------------------------------------------------\u001b[0m",
      "\u001b[0;31mNameError\u001b[0m                                 Traceback (most recent call last)",
      "\u001b[0;32m<ipython-input-5-c4061b7f2a7c>\u001b[0m in \u001b[0;36m<module>\u001b[0;34m()\u001b[0m\n\u001b[0;32m----> 1\u001b[0;31m history = model.fit_generator(\n\u001b[0m\u001b[1;32m      2\u001b[0m       \u001b[0mtrain_generator\u001b[0m\u001b[0;34m,\u001b[0m\u001b[0;34m\u001b[0m\u001b[0m\n\u001b[1;32m      3\u001b[0m       \u001b[0msteps_per_epoch\u001b[0m\u001b[0;34m=\u001b[0m\u001b[0;36m50\u001b[0m\u001b[0;34m,\u001b[0m\u001b[0;34m\u001b[0m\u001b[0m\n\u001b[1;32m      4\u001b[0m       \u001b[0mepochs\u001b[0m\u001b[0;34m=\u001b[0m\u001b[0;36m20\u001b[0m\u001b[0;34m,\u001b[0m\u001b[0;34m\u001b[0m\u001b[0m\n\u001b[1;32m      5\u001b[0m       \u001b[0mvalidation_data\u001b[0m\u001b[0;34m=\u001b[0m\u001b[0mvalidation_generator\u001b[0m\u001b[0;34m,\u001b[0m\u001b[0;34m\u001b[0m\u001b[0m\n",
      "\u001b[0;31mNameError\u001b[0m: name 'model' is not defined"
     ],
     "output_type": "error"
    }
   ],
   "source": [
    "history = model.fit_generator(\n",
    "      train_generator,\n",
    "      steps_per_epoch=50,\n",
    "      epochs=20,\n",
    "      validation_data=validation_generator,\n",
    "      validation_steps=25)"
   ]
  },
  {
   "cell_type": "markdown",
   "metadata": {},
   "source": [
    "## Using Pre Trained CNNs"
   ]
  },
  {
   "cell_type": "code",
   "execution_count": 7,
   "metadata": {},
   "outputs": [],
   "source": [
    "from keras.applications import VGG16\n",
    "\n",
    "conv_base = VGG16(weights='imagenet',\n",
    "                  include_top=False,\n",
    "                  input_shape=(IMAGE_WIDTH, IMAGE_HEIGHT, 3))"
   ]
  },
  {
   "cell_type": "code",
   "execution_count": 8,
   "metadata": {},
   "outputs": [
    {
     "name": "stdout",
     "output_type": "stream",
     "text": [
      "_________________________________________________________________\n",
      "Layer (type)                 Output Shape              Param #   \n",
      "=================================================================\n",
      "input_1 (InputLayer)         (None, 320, 213, 3)       0         \n",
      "_________________________________________________________________\n",
      "block1_conv1 (Conv2D)        (None, 320, 213, 64)      1792      \n",
      "_________________________________________________________________\n",
      "block1_conv2 (Conv2D)        (None, 320, 213, 64)      36928     \n",
      "_________________________________________________________________\n",
      "block1_pool (MaxPooling2D)   (None, 160, 106, 64)      0         \n",
      "_________________________________________________________________\n",
      "block2_conv1 (Conv2D)        (None, 160, 106, 128)     73856     \n",
      "_________________________________________________________________\n",
      "block2_conv2 (Conv2D)        (None, 160, 106, 128)     147584    \n",
      "_________________________________________________________________\n",
      "block2_pool (MaxPooling2D)   (None, 80, 53, 128)       0         \n",
      "_________________________________________________________________\n",
      "block3_conv1 (Conv2D)        (None, 80, 53, 256)       295168    \n",
      "_________________________________________________________________\n",
      "block3_conv2 (Conv2D)        (None, 80, 53, 256)       590080    \n",
      "_________________________________________________________________\n",
      "block3_conv3 (Conv2D)        (None, 80, 53, 256)       590080    \n",
      "_________________________________________________________________\n",
      "block3_pool (MaxPooling2D)   (None, 40, 26, 256)       0         \n",
      "_________________________________________________________________\n",
      "block4_conv1 (Conv2D)        (None, 40, 26, 512)       1180160   \n",
      "_________________________________________________________________\n",
      "block4_conv2 (Conv2D)        (None, 40, 26, 512)       2359808   \n",
      "_________________________________________________________________\n",
      "block4_conv3 (Conv2D)        (None, 40, 26, 512)       2359808   \n",
      "_________________________________________________________________\n",
      "block4_pool (MaxPooling2D)   (None, 20, 13, 512)       0         \n",
      "_________________________________________________________________\n",
      "block5_conv1 (Conv2D)        (None, 20, 13, 512)       2359808   \n",
      "_________________________________________________________________\n",
      "block5_conv2 (Conv2D)        (None, 20, 13, 512)       2359808   \n",
      "_________________________________________________________________\n",
      "block5_conv3 (Conv2D)        (None, 20, 13, 512)       2359808   \n",
      "_________________________________________________________________\n",
      "block5_pool (MaxPooling2D)   (None, 10, 6, 512)        0         \n",
      "=================================================================\n",
      "Total params: 14,714,688\n",
      "Trainable params: 14,714,688\n",
      "Non-trainable params: 0\n",
      "_________________________________________________________________\n"
     ]
    }
   ],
   "source": [
    "conv_base.summary()"
   ]
  },
  {
   "cell_type": "code",
   "execution_count": 9,
   "metadata": {},
   "outputs": [],
   "source": [
    "from keras import models, layers\n",
    "\n",
    "model = models.Sequential()\n",
    "model.add(conv_base)\n",
    "model.add(layers.Flatten())\n",
    "model.add(layers.Dense(256, activation='relu'))\n",
    "model.add(layers.Dense(1, activation='sigmoid'))\n",
    "# Train only the dense layers.\n",
    "conv_base.trainable = False"
   ]
  },
  {
   "cell_type": "code",
   "execution_count": 10,
   "metadata": {},
   "outputs": [
    {
     "name": "stdout",
     "output_type": "stream",
     "text": [
      "Found 94 images belonging to 2 classes.\n",
      "Found 25 images belonging to 2 classes.\n"
     ]
    }
   ],
   "source": [
    "train_datagen = ImageDataGenerator(\n",
    "      rescale=1./255,\n",
    "      rotation_range=40,\n",
    "      width_shift_range=0.2,\n",
    "      height_shift_range=0.2,\n",
    "      shear_range=0.2,\n",
    "      zoom_range=0.2,\n",
    "      horizontal_flip=True,\n",
    "      fill_mode='nearest')\n",
    "test_datagen = ImageDataGenerator(rescale=1./255)\n",
    "\n",
    "train_generator = train_datagen.flow_from_directory(\n",
    "        TRAIN_DIR,\n",
    "        target_size=(IMAGE_WIDTH, IMAGE_HEIGHT),\n",
    "        batch_size=20,\n",
    "        class_mode='binary')\n",
    "\n",
    "validation_generator = test_datagen.flow_from_directory(\n",
    "        VALIDATION_DIR,\n",
    "        target_size=(IMAGE_WIDTH, IMAGE_HEIGHT),\n",
    "        batch_size=20,\n",
    "        class_mode='binary')"
   ]
  },
  {
   "cell_type": "code",
   "execution_count": 12,
   "metadata": {},
   "outputs": [
    {
     "name": "stdout",
     "output_type": "stream",
     "text": [
      "Epoch 1/20\n",
      "50/50 [==============================] - 440s 9s/step - loss: 0.5789 - acc: 0.7045 - val_loss: 0.5237 - val_acc: 0.7187\n",
      "Epoch 2/20\n",
      "50/50 [==============================] - 441s 9s/step - loss: 0.5012 - acc: 0.7555 - val_loss: 0.4879 - val_acc: 0.7594\n",
      "Epoch 3/20\n",
      "50/50 [==============================] - 495s 10s/step - loss: 0.4685 - acc: 0.7950 - val_loss: 0.4939 - val_acc: 0.7594\n",
      "Epoch 4/20\n",
      "50/50 [==============================] - 500s 10s/step - loss: 0.4156 - acc: 0.8163 - val_loss: 0.4831 - val_acc: 0.8406\n",
      "Epoch 5/20\n",
      "50/50 [==============================] - 486s 10s/step - loss: 0.3981 - acc: 0.8207 - val_loss: 0.4616 - val_acc: 0.8000\n",
      "Epoch 6/20\n",
      "50/50 [==============================] - 495s 10s/step - loss: 0.3681 - acc: 0.8433 - val_loss: 0.4743 - val_acc: 0.7969\n",
      "Epoch 7/20\n",
      "50/50 [==============================] - 498s 10s/step - loss: 0.3458 - acc: 0.8644 - val_loss: 0.5038 - val_acc: 0.7187\n",
      "Epoch 8/20\n",
      "50/50 [==============================] - 463s 9s/step - loss: 0.3175 - acc: 0.8800 - val_loss: 0.5347 - val_acc: 0.6781\n",
      "Epoch 9/20\n",
      "50/50 [==============================] - 436s 9s/step - loss: 0.3302 - acc: 0.8623 - val_loss: 0.4557 - val_acc: 0.8000\n",
      "Epoch 10/20\n",
      "50/50 [==============================] - 427s 9s/step - loss: 0.2864 - acc: 0.8986 - val_loss: 0.4651 - val_acc: 0.7625\n",
      "Epoch 11/20\n",
      "50/50 [==============================] - 450s 9s/step - loss: 0.2893 - acc: 0.8876 - val_loss: 0.5092 - val_acc: 0.7969\n",
      "Epoch 12/20\n",
      "50/50 [==============================] - 545s 11s/step - loss: 0.2451 - acc: 0.9107 - val_loss: 0.4865 - val_acc: 0.8000\n",
      "Epoch 13/20\n",
      "50/50 [==============================] - 530s 11s/step - loss: 0.2417 - acc: 0.9299 - val_loss: 0.4713 - val_acc: 0.8000\n",
      "Epoch 14/20\n",
      "50/50 [==============================] - 551s 11s/step - loss: 0.2335 - acc: 0.9215 - val_loss: 0.4806 - val_acc: 0.7625\n",
      "Epoch 15/20\n",
      "50/50 [==============================] - 467s 9s/step - loss: 0.2367 - acc: 0.9104 - val_loss: 0.4744 - val_acc: 0.7625\n",
      "Epoch 16/20\n",
      "50/50 [==============================] - 526s 11s/step - loss: 0.2336 - acc: 0.9211 - val_loss: 0.4459 - val_acc: 0.7625\n",
      "Epoch 17/20\n",
      "50/50 [==============================] - 574s 11s/step - loss: 0.2068 - acc: 0.9428 - val_loss: 0.5070 - val_acc: 0.7156\n",
      "Epoch 18/20\n",
      "50/50 [==============================] - 567s 11s/step - loss: 0.2008 - acc: 0.9296 - val_loss: 0.5231 - val_acc: 0.8000\n",
      "Epoch 19/20\n",
      "50/50 [==============================] - 565s 11s/step - loss: 0.1901 - acc: 0.9356 - val_loss: 0.4820 - val_acc: 0.7594\n",
      "Epoch 20/20\n",
      "50/50 [==============================] - 558s 11s/step - loss: 0.1828 - acc: 0.9431 - val_loss: 0.4842 - val_acc: 0.7219\n"
     ]
    }
   ],
   "source": [
    "model.compile(loss='binary_crossentropy',\n",
    "              optimizer=optimizers.RMSprop(lr=2e-5),\n",
    "              metrics=['acc'])\n",
    "\n",
    "history = model.fit_generator(\n",
    "      train_generator,\n",
    "      steps_per_epoch=50,\n",
    "      epochs=20,\n",
    "      validation_data=validation_generator,\n",
    "      validation_steps=25)"
   ]
  },
  {
   "cell_type": "code",
   "execution_count": 13,
   "metadata": {},
   "outputs": [],
   "source": [
    "model.save('pretrained_vgg.h5')"
   ]
  },
  {
   "cell_type": "code",
   "execution_count": 15,
   "metadata": {},
   "outputs": [
    {
     "data": {
      "image/png": "[encoded data removed]",
      "text/plain": [
       "<matplotlib.figure.Figure at 0x7f9c59091588>"
      ]
     },
     "metadata": {},
     "output_type": "display_data"
    },
    {
     "data": {
      "image/png": "[encoded data removed]",
      "text/plain": [
       "<matplotlib.figure.Figure at 0x7f9c5900fcc0>"
      ]
     },
     "metadata": {},
     "output_type": "display_data"
    }
   ],
   "source": [
    "plot_history(history)"
   ]
  },
  {
   "cell_type": "code",
   "execution_count": null,
   "metadata": {},
   "outputs": [],
   "source": []
  }
 ],
 "metadata": {
  "kernelspec": {
   "display_name": "Python 3",
   "language": "python",
   "name": "python3"
  },
  "language_info": {
   "codemirror_mode": {
    "name": "ipython",
    "version": 3
   },
   "file_extension": ".py",
   "mimetype": "text/x-python",
   "name": "python",
   "nbconvert_exporter": "python",
   "pygments_lexer": "ipython3",
   "version": "3.5.3"
  }
 },
 "nbformat": 4,
 "nbformat_minor": 2
}
